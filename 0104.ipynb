{
 "cells": [
  {
   "cell_type": "code",
   "execution_count": 1,
   "metadata": {},
   "outputs": [],
   "source": [
    "list(\"abc\")\n",
    "A = [\"a\",\"b\",\"c\"]\n",
    "A.append(\"d\")\n",
    "A.append(\"e\")\n",
    "\n",
    "# tuple\n",
    "B = (\"a\", \"b\", \"c\")\n",
    "\n",
    "# dictionary\n",
    "fruits = {\"banana\" : 1, \"apple\" : 1}\n",
    "\n",
    "fruits.pop(\"banana\")\n",
    "\n",
    "A.remove('c')"
   ]
  },
  {
   "cell_type": "code",
   "execution_count": null,
   "metadata": {},
   "outputs": [],
   "source": [
    "A = input()\n",
    "A.split()\n",
    "\n",
    "list(map(int,A))\n",
    "\n",
    "T = [int(x) for x in input().split()]"
   ]
  },
  {
   "cell_type": "markdown",
   "metadata": {},
   "source": [
    "# 함수"
   ]
  },
  {
   "cell_type": "code",
   "execution_count": 7,
   "metadata": {},
   "outputs": [
    {
     "name": "stdout",
     "output_type": "stream",
     "text": [
      "3\n",
      "2\n"
     ]
    }
   ],
   "source": [
    "a = \"Strawberry Moon\"\n",
    "count = 0\n",
    "for i in a:\n",
    "  if i == \"r\":\n",
    "    count += 1\n",
    "print(count)\n",
    "print(a.count(\"o\"))"
   ]
  },
  {
   "cell_type": "code",
   "execution_count": 9,
   "metadata": {},
   "outputs": [
    {
     "name": "stdout",
     "output_type": "stream",
     "text": [
      "3 4\n"
     ]
    }
   ],
   "source": [
    "a = 3 # argument(인수)\n",
    "b = 4\n",
    "def myfunction(x,y): # parameter(인자)\n",
    "  print(x,y)\n",
    "\n",
    "myfunction(a,b)"
   ]
  },
  {
   "cell_type": "code",
   "execution_count": 1,
   "metadata": {},
   "outputs": [
    {
     "data": {
      "text/plain": [
       "36"
      ]
     },
     "execution_count": 1,
     "metadata": {},
     "output_type": "execute_result"
    }
   ],
   "source": [
    "def f (x):\n",
    "  y = x**2 + 2*x + 1\n",
    "  return y\n",
    "\n",
    "f(5)"
   ]
  },
  {
   "cell_type": "code",
   "execution_count": 2,
   "metadata": {},
   "outputs": [
    {
     "name": "stdout",
     "output_type": "stream",
     "text": [
      "Hello\n",
      "Hello\n",
      "Hello\n"
     ]
    }
   ],
   "source": [
    "def say_hello(n):\n",
    "  for i in range(n):\n",
    "    print(\"Hello\")\n",
    "\n",
    "say_hello(3)"
   ]
  },
  {
   "cell_type": "code",
   "execution_count": 8,
   "metadata": {},
   "outputs": [
    {
     "name": "stdout",
     "output_type": "stream",
     "text": [
      "hello\n"
     ]
    },
    {
     "data": {
      "text/plain": [
       "10"
      ]
     },
     "execution_count": 8,
     "metadata": {},
     "output_type": "execute_result"
    }
   ],
   "source": [
    "def sayHi():\n",
    "  y = 10\n",
    "  print(\"hello\")\n",
    "  return y\n",
    "  def say(a):\n",
    "    print(y)\n",
    "    \n",
    "sayHi()\n"
   ]
  },
  {
   "cell_type": "code",
   "execution_count": 9,
   "metadata": {},
   "outputs": [
    {
     "name": "stdout",
     "output_type": "stream",
     "text": [
      "20\n",
      "10\n"
     ]
    }
   ],
   "source": [
    "x = 10\n",
    "def func():\n",
    "  x = 20\n",
    "  print(x)\n",
    "  \n",
    "func()\n",
    "print(x)"
   ]
  },
  {
   "cell_type": "code",
   "execution_count": 21,
   "metadata": {},
   "outputs": [
    {
     "name": "stdout",
     "output_type": "stream",
     "text": [
      "남은 음료수:['게토레이', '게토레이', '레쓰비', '레쓰비', '생수', '생수', '생수', '이프로']\n",
      "게토레이가 있습니다\n",
      "남은 음료수:['게토레이', '게토레이', '레쓰비', '레쓰비', '생수', '생수', '생수', '이프로', '콜라']\n",
      "남은 음료수:['게토레이', '게토레이', '레쓰비', '레쓰비', '생수', '생수', '생수', '콜라']\n"
     ]
    }
   ],
   "source": [
    "vending_machine = ['게토레이', '게토레이', '레쓰비', '레쓰비', '생수', '생수', '생수', '이프로']\n",
    "def check_machine():\n",
    "  print(f\"남은 음료수:{vending_machine}\")\n",
    "\n",
    "def is_drink():\n",
    "  ber = input(\"마시고 싶은 음료\")\n",
    "  if ber in vending_machine:\n",
    "    print(f\"{ber}가 있습니다\")\n",
    "  else:\n",
    "    print(f\"{ber}가 없어요\")\n",
    "\n",
    "def add_drink(a):\n",
    "  vending_machine.append(a)\n",
    "  print(f\"남은 음료수:{vending_machine}\")\n",
    "  \n",
    "def remove_drink(a):\n",
    "  vending_machine.remove(a)\n",
    "  print(f\"남은 음료수:{vending_machine}\")\n",
    " \n",
    "check_machine()\n",
    "is_drink()\n",
    "add_drink(\"콜라\")\n",
    "remove_drink(\"이프로\")"
   ]
  },
  {
   "cell_type": "code",
   "execution_count": 25,
   "metadata": {},
   "outputs": [
    {
     "name": "stdout",
     "output_type": "stream",
     "text": [
      "[1, 2, 3, 4]\n",
      "[4, 3, 2, 1]\n",
      "['ae', 'abc', 'dddd', 'eeee']\n"
     ]
    }
   ],
   "source": [
    "list_ = [3,1,4,2]\n",
    "list_.sort(reverse=False)\n",
    "print(list_)\n",
    "list_.sort(reverse=True)\n",
    "print(list_)\n",
    "mylist = ['abc', 'dddd', 'ae', 'eeee']\n",
    "mylist.sort(key=len)\n",
    "print(mylist)"
   ]
  },
  {
   "cell_type": "code",
   "execution_count": 1,
   "metadata": {},
   "outputs": [],
   "source": [
    "import sys\n",
    "\n",
    "n = int(sys.stdin.readline())\n",
    "stack = []\n",
    "\n",
    "for _ in range(n):\n",
    "  order_ = sys.stdin.readline()\n",
    "  order_1 = list(order_.split())\n",
    "  if 'push' in order_1:\n",
    "    stack.append(int(order_1[1]))\n",
    "  elif 'pop' in order_1:\n",
    "    if len(stack) == 0:\n",
    "      print(-1)\n",
    "    else:\n",
    "      print(stack.pop())\n",
    "  elif 'size' in order_1:\n",
    "    print(len(stack))\n",
    "  elif 'empty' in order_1:\n",
    "    if len(stack) == 0:\n",
    "      print(1)\n",
    "    else:\n",
    "      print(0)\n",
    "  elif 'top' in order_1:\n",
    "    if len(stack) == 0:\n",
    "      print(-1)\n",
    "    else:\n",
    "      pop_=stack.pop()\n",
    "      print(pop_)\n",
    "      stack.append(pop_)\n",
    "    \n",
    "  "
   ]
  },
  {
   "cell_type": "code",
   "execution_count": 18,
   "metadata": {},
   "outputs": [
    {
     "name": "stdout",
     "output_type": "stream",
     "text": [
      "120\n"
     ]
    }
   ],
   "source": [
    "n = 5\n",
    "factorial = 1\n",
    "for i in range(1, n+1):\n",
    "  factorial = factorial * i\n",
    "  \n",
    "print(factorial)\n",
    "  "
   ]
  },
  {
   "cell_type": "code",
   "execution_count": 19,
   "metadata": {},
   "outputs": [
    {
     "name": "stdout",
     "output_type": "stream",
     "text": [
      "6\n"
     ]
    }
   ],
   "source": [
    "def factorial(n):\n",
    "  if n == 1:\n",
    "    return 1\n",
    "  return n * factorial(n-1)\n",
    "\n",
    "print(factorial(3))"
   ]
  },
  {
   "cell_type": "code",
   "execution_count": 36,
   "metadata": {},
   "outputs": [
    {
     "data": {
      "text/plain": [
       "5"
      ]
     },
     "execution_count": 36,
     "metadata": {},
     "output_type": "execute_result"
    }
   ],
   "source": [
    "def fibo(n):\n",
    "  if n <=2:\n",
    "    num = 1\n",
    "  else:\n",
    "    num = fibo(n-1) + fibo(n-2)\n",
    "  return num\n",
    "\n",
    "fibo(5)"
   ]
  },
  {
   "cell_type": "code",
   "execution_count": 38,
   "metadata": {},
   "outputs": [
    {
     "data": {
      "text/plain": [
       "12586269025"
      ]
     },
     "execution_count": 38,
     "metadata": {},
     "output_type": "execute_result"
    }
   ],
   "source": [
    "memory = {1: 1, 2: 1, 3: 2, 4 : 3}\n",
    "def fibo_memoization(n):\n",
    "    if n in memory:\n",
    "        number = memory[n]\n",
    "    else:\n",
    "       number = fibo_memoization(n-1) + fibo_memoization(n-2)\n",
    "       memory[n] = number\n",
    "    return number\n",
    "  \n",
    "fibo_memoization(50)  "
   ]
  },
  {
   "cell_type": "code",
   "execution_count": null,
   "metadata": {},
   "outputs": [],
   "source": [
    "fibo = [1,1]\n",
    "def fibo_d():\n",
    "  if i > 10:\n",
    "    return fibo\n",
    "  if len(fibo) <= 1:\n",
    "    fibo.append(1)\n",
    "    return fibo_d(i+1)\n",
    "  else:\n",
    "    alpha = fibo[i-1]+fibo[i-2]\n",
    "    fibo.append(alpha)\n",
    "    return fibo_d(i+1)\n",
    "  \n",
    "fibo_d(0)"
   ]
  }
 ],
 "metadata": {
  "kernelspec": {
   "display_name": "base",
   "language": "python",
   "name": "python3"
  },
  "language_info": {
   "codemirror_mode": {
    "name": "ipython",
    "version": 3
   },
   "file_extension": ".py",
   "mimetype": "text/x-python",
   "name": "python",
   "nbconvert_exporter": "python",
   "pygments_lexer": "ipython3",
   "version": "3.11.5"
  }
 },
 "nbformat": 4,
 "nbformat_minor": 2
}
