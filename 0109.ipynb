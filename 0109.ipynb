{
 "cells": [
  {
   "cell_type": "code",
   "execution_count": 1,
   "metadata": {},
   "outputs": [
    {
     "name": "stdout",
     "output_type": "stream",
     "text": [
      "{'make': 'tesla', 'model': 'r99', 'year': '2000', 'color': 'red'}\n"
     ]
    }
   ],
   "source": [
    "class Car:\n",
    "    def __init__(self, make, model, year, color):\n",
    "        self.make = make      # 제조사\n",
    "        self.model = model    # 모델\n",
    "        self.year = year      # 제조년도\n",
    "        self.color = color    # 색상\n",
    "        \n",
    "        \n",
    "tesla = Car('tesla','r99','2000','red')\n",
    "print(vars(tesla)) # attribute를 알아내기"
   ]
  },
  {
   "cell_type": "code",
   "execution_count": 2,
   "metadata": {},
   "outputs": [
    {
     "name": "stdout",
     "output_type": "stream",
     "text": [
      "0x1a6801548c0\n",
      "===========================\n",
      "0x1a680154a00\n",
      "===========================\n",
      "저는 MF 포지션입니다.\n",
      "0x7ff8ec336af0\n",
      "===========================\n",
      "저는 DF 포지션입니다.\n",
      "0x7ff8ec336af0\n",
      "===========================\n",
      "0x1a6fe993cb0\n",
      "0x1a680146df0\n"
     ]
    }
   ],
   "source": [
    "class FB_Player: # initialize\n",
    "  def __init__(self,myname,age,backnumber,position,club):\n",
    "    self.name = myname\n",
    "    self.age = age\n",
    "    self.backnumber = backnumber\n",
    "    self.position = position\n",
    "    self.club = club\n",
    "    \n",
    "  def Info_Pos(self): \n",
    "    print(f\"저는 {self.position} 포지션입니다.\")\n",
    "    \n",
    "    \n",
    "\n",
    "messi = FB_Player(\"messi\",\"35\",\"10\",\"MF\",\"마이애미\")\n",
    "\n",
    "ronaldo = FB_Player(\"ronaldo\",\"40\",\"11\",\"DF\",\"한국\")\n",
    "\n",
    "\n",
    "print(hex(id(messi.Info_Pos)))\n",
    "print(\"===========================\")\n",
    "\n",
    "print(hex(id(ronaldo.Info_Pos)))\n",
    "print(\"===========================\")\n",
    "\n",
    "\n",
    "print(hex(id(messi.Info_Pos())))\n",
    "print(\"===========================\")\n",
    "\n",
    "print(hex(id(ronaldo.Info_Pos())))\n",
    "print(\"===========================\")\n",
    "\n",
    "print(hex(id(messi.age)))\n",
    "print(hex(id(ronaldo.age)))"
   ]
  },
  {
   "cell_type": "code",
   "execution_count": 5,
   "metadata": {},
   "outputs": [
    {
     "ename": "AttributeError",
     "evalue": "'Weapon' object has no attribute '__attackDmg'",
     "output_type": "error",
     "traceback": [
      "\u001b[1;31m---------------------------------------------------------------------------\u001b[0m",
      "\u001b[1;31mAttributeError\u001b[0m                            Traceback (most recent call last)",
      "Cell \u001b[1;32mIn[5], line 22\u001b[0m\n\u001b[0;32m     19\u001b[0m myBow \u001b[38;5;241m=\u001b[39m Weapon(\u001b[38;5;241m100\u001b[39m, \u001b[38;5;124m'\u001b[39m\u001b[38;5;124mBow\u001b[39m\u001b[38;5;124m'\u001b[39m,\u001b[38;5;241m100\u001b[39m)  \u001b[38;5;66;03m# Item 클래스의 생성자와 Weapon 클래스의 생성자에 필요한 인자를 제공\u001b[39;00m\n\u001b[0;32m     20\u001b[0m myBow\u001b[38;5;241m.\u001b[39m__dropRate \u001b[38;5;241m=\u001b[39m \u001b[38;5;241m100\u001b[39m\n\u001b[1;32m---> 22\u001b[0m \u001b[38;5;28mprint\u001b[39m(\u001b[43mmyBow\u001b[49m\u001b[38;5;241;43m.\u001b[39;49m\u001b[43m__attackDmg\u001b[49m)\n",
      "\u001b[1;31mAttributeError\u001b[0m: 'Weapon' object has no attribute '__attackDmg'"
     ]
    }
   ],
   "source": [
    "class Item:\n",
    "    def __init__(self, Iprice=None, Itype=None):\n",
    "        self.__Iprice = Iprice\n",
    "        self.Itype = Itype\n",
    "\n",
    "    def getIprice(self):\n",
    "        return self.__Iprice  # 값을 반환하는 것이 더 적절할 것입니다.\n",
    "\n",
    "class Weapon(Item):\n",
    "    def __init__(self, Iprice=None, Itype=None, attackDmg=0):\n",
    "        super().__init__(Iprice, Itype)  # Item 클래스의 생성자 호출\n",
    "        self.__attackDmg = attackDmg\n",
    "\n",
    "    def setattackDmg(self, attackDmg):\n",
    "        self.__attackDmg= attackDmg\n",
    "    def getattackDmg(self):\n",
    "        print(self.__attackDmg)\n",
    "\n",
    "myBow = Weapon(100, 'Bow',100)  # Item 클래스의 생성자와 Weapon 클래스의 생성자에 필요한 인자를 제공\n",
    "myBow.__dropRate = 100\n",
    "\n",
    "print(myBow.__attackDmg)"
   ]
  },
  {
   "cell_type": "code",
   "execution_count": 9,
   "metadata": {},
   "outputs": [
    {
     "name": "stdout",
     "output_type": "stream",
     "text": [
      "로그인 완료\n",
      "직업:archer\n",
      "HP:700\n",
      "괴물1을 공격하고 있습니다\n",
      "괴물1의 체력이 480남았습니다.\n",
      "괴물1을 공격하고 있습니다\n",
      "괴물1의 체력이 360남았습니다.\n",
      "괴물1을 공격하고 있습니다\n",
      "괴물1의 체력이 240남았습니다.\n",
      "괴물1을 공격하고 있습니다\n",
      "괴물1의 체력이 120남았습니다.\n",
      "괴물1을 공격하고 있습니다\n",
      "괴물1의 체력이 0남았습니다.\n",
      "괴물1이 죽었습니다\n",
      "경험치 15를 얻었습니다\n",
      "현재 경험치:105\n",
      "2레벨이 되었습니다\n",
      "현재 경험치:5\n",
      "HP:700\n",
      "공격력:120\n",
      "Bow을 획득하였습니다.\n",
      "공격력:130\n"
     ]
    }
   ],
   "source": [
    "# 게임만들기 클라이언트 player 직업 몬스터 아이템\n",
    "id = \"\"\n",
    "password = \"\"\n",
    "while True:\n",
    "  start_ = int(input(\"1.로그인 2.회원가입 3.종료\"))\n",
    "  if start_ == 3:\n",
    "    print(\"게임을 종료합니다\")\n",
    "    break\n",
    "  elif start_ == 1:\n",
    "    id_input = input(\"id를 입력하세요\")\n",
    "    password_input = input(\"password를 입력하세요\")\n",
    "    if id_input == id and password_input == password:\n",
    "      print(\"로그인 완료\")\n",
    "      break\n",
    "    else:\n",
    "      print(\"다시 입력하세요\")\n",
    "  elif start_ == 2:\n",
    "    id = input(\"id를 생성해주세요\")\n",
    "    password = input(\"password를 생성해주세요\")\n",
    "  else:\n",
    "    print(\"잘못 입력하셨습니다\")\n",
    "\n",
    "class Creature:\n",
    "  def __init__(self,HP,attack_damage, defense, name):\n",
    "    self.HP = HP\n",
    "    self.attack_damage = attack_damage\n",
    "    self.defense = defense\n",
    "    self.name = name\n",
    "    \n",
    "  def attacked(self,enemy : 'Creature'):\n",
    "    print(f\"{enemy.name}에게 공격 받았습니다\")\n",
    "    self.HP = self.HP - enemy.attack_damage + self.defense\n",
    "    if self.HP > 0:\n",
    "      print(f\"현재 HP:{self.HP}\")\n",
    "      return self\n",
    "    else:\n",
    "      print(f\"{self.name}님이 전사하셨습니다\")\n",
    "# 플레이어 \n",
    "class player(Creature):\n",
    "  def __init__(self, name = None, job = None, HP =None, attack_damage = None, defense = None):\n",
    "    super().__init__(HP,attack_damage, defense, name)\n",
    "    self.exp = 90\n",
    "    self.exp_max = 100\n",
    "    self.level = 1\n",
    "    self.job = job\n",
    "    \n",
    "  \n",
    "  def attack(self, enemy):\n",
    "    print(f\"{enemy.name}을 공격하고 있습니다\")\n",
    "    enemy.HP -= self.attack_damage\n",
    "    print(f\"{enemy.name}의 체력이 {enemy.HP}남았습니다.\")\n",
    "    if enemy.HP <= 0:\n",
    "      print(f\"{enemy.name}이 죽었습니다\")\n",
    "      self.exp += enemy.give_exp\n",
    "      print(f\"경험치 {enemy.give_exp}를 얻었습니다\")\n",
    "      print(f\"현재 경험치:{self.exp}\")\n",
    "      if self.exp >= 100:\n",
    "        self.levelup(enemy)\n",
    "    \n",
    "      \n",
    "      \n",
    "      \n",
    "  def levelup(self, enemy):\n",
    "     self.level += 1\n",
    "     self.exp = self.exp - self.exp_max\n",
    "     self.exp_max += self.level*10\n",
    "     print(f\"{self.level}레벨이 되었습니다\")\n",
    "  \n",
    " # 직업 \n",
    "class worrier(player):\n",
    "  def __init__(self, name):\n",
    "    super().__init__()\n",
    "    self.type_attack = \"ad\"\n",
    "    self.HP = 1000\n",
    "    self.attack_damage = 100\n",
    "    self.defense = 20\n",
    "    self.job = \"worrier\"\n",
    "    self.name = name\n",
    "  \n",
    "  def getitem(self, item):\n",
    "    if item.Itype == 'Sword' :\n",
    "      self.attack_damage += item.item_attack_damage\n",
    "    else:\n",
    "      print(\"착용할 수 없습니다\")\n",
    "    \n",
    "class magician(player):\n",
    "  def __init__(self,name):\n",
    "    super().__init__()\n",
    "    self.type_attack = \"ap\"\n",
    "    self.HP = 600\n",
    "    self.attack_damage = 130\n",
    "    self.defense = 5\n",
    "    self.job = \"magician\"\n",
    "    self.name = name\n",
    "  \n",
    "  def getitem(self, item):\n",
    "    if item.Itype == 'Wand' :\n",
    "      self.attack_damage += item.item_attack_damage\n",
    "    else:\n",
    "      print(\"착용할 수 없습니다\")  \n",
    "\n",
    "class archer(player):\n",
    "  def __init__(self, name):\n",
    "    super().__init__()\n",
    "    self.type_attack = \"ad\"\n",
    "    self.HP = 700\n",
    "    self.attack_damage = 120\n",
    "    self.defense = 10\n",
    "    self.job = \"archer\"\n",
    "    self.name = name\n",
    "    \n",
    "  def getitem(self, item):\n",
    "    print(f\"{item.Itype}을 획득하였습니다.\")\n",
    "    if item.Itype == 'Bow' :\n",
    "      self.attack_damage += item.item_attack_damage\n",
    "    else:\n",
    "      print(\"착용할 수 없습니다\")\n",
    "# 몬스터\n",
    "class Monster(Creature):\n",
    "  pass\n",
    "\n",
    "class zombie(Monster):\n",
    "   def __init__(self,name):\n",
    "     self.name = name\n",
    "     self.HP = 600\n",
    "     self.attack_damage = 50\n",
    "     self.class_ = \"zombie\"\n",
    "     self.give_exp = 15\n",
    "     \n",
    "class animal(Monster):\n",
    "   def __init__(self,name):\n",
    "     self.name = name\n",
    "     self.HP = 150\n",
    "     self.attack_damage = 40\n",
    "     self.class_ = \"animal\"\n",
    "     self.give_exp = 10\n",
    "\n",
    "# 아이템\n",
    "class Item():\n",
    "  def __init__(self, Iprice = None, Itype = None):\n",
    "    \n",
    "    self.Iprice = Iprice\n",
    "    self.Itype = Itype\n",
    "  \n",
    "  def getIprice(self):\n",
    "    return self.Iprice  \n",
    "  \n",
    "class Bow(Item):\n",
    "  def __init__(self, Iprice = None):\n",
    "    super().__init__(Iprice)\n",
    "    self.item_attack_damage = 10\n",
    "    self.Itype = 'Bow'\n",
    "\n",
    "class Sword(Item):\n",
    "  def __init__(self, Iprice = None):\n",
    "    super().__init__(Iprice)\n",
    "    self.item_attack_damage = 10\n",
    "    self.Itype = 'Sword'\n",
    "class Wand(Item):\n",
    "  def __init__(self, Iprice = None):\n",
    "    super().__init__(Iprice)\n",
    "    self.item_attack_damage = 10\n",
    "    self.Itype = 'Wand'\n",
    "\n",
    "if start_ != 3:\n",
    "  myPlayer = archer(\"캐릭터1\")\n",
    "  print(f\"직업:{myPlayer.job}\")\n",
    "  print(f\"HP:{myPlayer.HP}\")\n",
    "  mymonster = zombie(\"괴물1\")\n",
    "  '''while myPlayer.HP > 0:\n",
    "    myPlayer.attacked(mymonster)'''\n",
    "  while mymonster.HP > 0:\n",
    "    myPlayer.attack(mymonster)\n",
    "  print(f\"현재 경험치:{myPlayer.exp}\") \n",
    "  print(f\"HP:{myPlayer.HP}\")\n",
    "  print(f\"공격력:{myPlayer.attack_damage}\")      \n",
    "  myBow = Bow(100)\n",
    "  myPlayer.getitem(myBow)\n",
    "  print(f\"공격력:{myPlayer.attack_damage}\")\n",
    "       \n"
   ]
  },
  {
   "cell_type": "code",
   "execution_count": null,
   "metadata": {},
   "outputs": [],
   "source": []
  },
  {
   "cell_type": "code",
   "execution_count": 2,
   "metadata": {},
   "outputs": [
    {
     "name": "stdout",
     "output_type": "stream",
     "text": [
      "로그인 완료\n"
     ]
    }
   ],
   "source": [
    "id = \"\"\n",
    "password = \"\"\n",
    "while True:\n",
    "  start_ = int(input(\"1.로그인 2.회원가입 3.종료\"))\n",
    "  if start_ == 3:\n",
    "    break\n",
    "  elif start_ == 1:\n",
    "    id_input = input(\"id를 입력하세요\")\n",
    "    password_input = input(\"password를 입력하세요\")\n",
    "    if id_input == id and password_input == password:\n",
    "      print(\"로그인 완료\")\n",
    "      break\n",
    "    else:\n",
    "      print(\"다시 입력하세요\")\n",
    "  elif start_ == 2:\n",
    "    id = input(\"id를 생성해주세요\")\n",
    "    password = input(\"password를 생성해주세요\")\n",
    "  else:\n",
    "    print(\"잘못 입력하셨습니다\")"
   ]
  },
  {
   "cell_type": "markdown",
   "metadata": {},
   "source": [
    "# 모듈"
   ]
  },
  {
   "cell_type": "code",
   "execution_count": 3,
   "metadata": {},
   "outputs": [
    {
     "name": "stdout",
     "output_type": "stream",
     "text": [
      "4\n",
      "0.4\n"
     ]
    }
   ],
   "source": [
    "import mycalc\n",
    "\n",
    "print(mycalc.add(1,3))\n",
    "print(mycalc.dev(2,5))"
   ]
  },
  {
   "cell_type": "code",
   "execution_count": 1,
   "metadata": {},
   "outputs": [
    {
     "name": "stdout",
     "output_type": "stream",
     "text": [
      "5\n",
      "2\n"
     ]
    }
   ],
   "source": [
    "from mycalc import add, sub\n",
    "import mycalc as my\n",
    "print(my.add(2,3))\n",
    "print(my.sub(3,1))"
   ]
  },
  {
   "cell_type": "code",
   "execution_count": 6,
   "metadata": {},
   "outputs": [
    {
     "name": "stdout",
     "output_type": "stream",
     "text": [
      "3\n",
      "1.7724538509055159\n",
      "120\n"
     ]
    }
   ],
   "source": [
    "import math\n",
    "\n",
    "print(math.floor(math.pi))\n",
    "print(math.sqrt(math.pi))\n",
    "print(math.factorial(5))"
   ]
  },
  {
   "cell_type": "code",
   "execution_count": 43,
   "metadata": {},
   "outputs": [
    {
     "name": "stdout",
     "output_type": "stream",
     "text": [
      "5.589326570458926\n",
      "0.16123285654734798\n"
     ]
    }
   ],
   "source": [
    "import random\n",
    "\n",
    "print(random.uniform(0,9))\n",
    "print(random.random())"
   ]
  },
  {
   "cell_type": "markdown",
   "metadata": {},
   "source": [
    "#### 모듈)실습1. 랜덤모듈사용해보기"
   ]
  },
  {
   "cell_type": "code",
   "execution_count": 52,
   "metadata": {},
   "outputs": [
    {
     "name": "stdout",
     "output_type": "stream",
     "text": [
      "[23, 25, 32, 79]\n"
     ]
    }
   ],
   "source": [
    "import random\n",
    "list_ = []\n",
    "for _ in range(4):\n",
    "  list_.append(random.randint(1,100))\n",
    "list_1 = sorted(list_, reverse = False)\n",
    "print(list_1)"
   ]
  },
  {
   "cell_type": "markdown",
   "metadata": {},
   "source": [
    "#### 모듈)실습2. 숫자 맞추기 게임"
   ]
  },
  {
   "cell_type": "code",
   "execution_count": 3,
   "metadata": {},
   "outputs": [
    {
     "name": "stdout",
     "output_type": "stream",
     "text": [
      "땡!\n",
      "땡!\n",
      "땡!\n",
      "땡!\n",
      "땡!\n",
      "땡!\n",
      "맞았어요! 랜덤 숫자는 7입니다\n"
     ]
    }
   ],
   "source": [
    "import random\n",
    "random_num = random.randint(1,10)\n",
    "isEnd = True\n",
    "def ran_num():\n",
    "  while (isEnd):\n",
    "    num = int(input(\"숫자를 맞춰보세요\"))\n",
    "    if num != random_num:\n",
    "      print('땡!')\n",
    "    else:\n",
    "      print(f\"맞았어요! 랜덤 숫자는 {random_num}입니다\")\n",
    "      break\n",
    "ran_num()"
   ]
  },
  {
   "cell_type": "markdown",
   "metadata": {},
   "source": [
    "#### 모듈)실습3. 로또번호뽑기"
   ]
  },
  {
   "cell_type": "code",
   "execution_count": 32,
   "metadata": {},
   "outputs": [
    {
     "name": "stdout",
     "output_type": "stream",
     "text": [
      "[1, 7, 8, 22, 23, 45]\n"
     ]
    }
   ],
   "source": [
    "import random\n",
    "\n",
    "print(sorted(random.sample(range(1,46),6)))\n",
    "      "
   ]
  },
  {
   "cell_type": "code",
   "execution_count": 11,
   "metadata": {},
   "outputs": [
    {
     "name": "stdout",
     "output_type": "stream",
     "text": [
      "[7, 23, 27, 32, 36, 41]\n"
     ]
    }
   ],
   "source": [
    "import random\n",
    "myset = set()\n",
    "\n",
    "while len (myset) !=6:\n",
    "  myset.add(random.randint(1,45))\n",
    "print(sorted(myset))  "
   ]
  }
 ],
 "metadata": {
  "kernelspec": {
   "display_name": "base",
   "language": "python",
   "name": "python3"
  },
  "language_info": {
   "codemirror_mode": {
    "name": "ipython",
    "version": 3
   },
   "file_extension": ".py",
   "mimetype": "text/x-python",
   "name": "python",
   "nbconvert_exporter": "python",
   "pygments_lexer": "ipython3",
   "version": "3.11.5"
  }
 },
 "nbformat": 4,
 "nbformat_minor": 2
}
