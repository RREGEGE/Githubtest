{
 "cells": [
  {
   "cell_type": "code",
   "execution_count": 1,
   "metadata": {},
   "outputs": [
    {
     "name": "stdout",
     "output_type": "stream",
     "text": [
      "Hello world\n"
     ]
    }
   ],
   "source": [
    "print(\"Hello world\")"
   ]
  },
  {
   "cell_type": "code",
   "execution_count": 2,
   "metadata": {},
   "outputs": [],
   "source": [
    "a=6\n",
    "b=4"
   ]
  },
  {
   "cell_type": "code",
   "execution_count": null,
   "metadata": {},
   "outputs": [
    {
     "name": "stdout",
     "output_type": "stream",
     "text": [
      "10\n"
     ]
    }
   ],
   "source": [
    "print(a+b)"
   ]
  },
  {
   "cell_type": "markdown",
   "metadata": {},
   "source": [
    "# 쥬피터 단축키\n",
    "셀 생성: b, a"
   ]
  },
  {
   "cell_type": "code",
   "execution_count": 3,
   "metadata": {},
   "outputs": [
    {
     "name": "stdout",
     "output_type": "stream",
     "text": [
      "['False', 'None', 'True', 'and', 'as', 'assert', 'async', 'await', 'break', 'class', 'continue', 'def', 'del', 'elif', 'else', 'except', 'finally', 'for', 'from', 'global', 'if', 'import', 'in', 'is', 'lambda', 'nonlocal', 'not', 'or', 'pass', 'raise', 'return', 'try', 'while', 'with', 'yield']\n"
     ]
    }
   ],
   "source": [
    "import keyword\n",
    "import math\n",
    "print(keyword.kwlist)"
   ]
  },
  {
   "cell_type": "code",
   "execution_count": 1,
   "metadata": {},
   "outputs": [
    {
     "data": {
      "text/plain": [
       "3.14"
      ]
     },
     "execution_count": 1,
     "metadata": {},
     "output_type": "execute_result"
    }
   ],
   "source": [
    "abs(-3.14)"
   ]
  },
  {
   "cell_type": "code",
   "execution_count": 4,
   "metadata": {},
   "outputs": [],
   "source": [
    "# 안녕하세요"
   ]
  },
  {
   "cell_type": "code",
   "execution_count": 6,
   "metadata": {},
   "outputs": [
    {
     "name": "stdout",
     "output_type": "stream",
     "text": [
      "Hello, World\n",
      "Hello Python\n"
     ]
    }
   ],
   "source": [
    "print(\"Hello, World\")\n",
    "print(\"Hello\", \"Python\")"
   ]
  },
  {
   "cell_type": "code",
   "execution_count": 19,
   "metadata": {},
   "outputs": [
    {
     "name": "stdout",
     "output_type": "stream",
     "text": [
      "Hello+World!\n",
      "Hello + World\n"
     ]
    }
   ],
   "source": [
    "print(\"Hello\",\"World!\",sep = \"+\")\n",
    "print(\"Hello\",\"+\",\"World\") # sep = \" \"로 기본설정 돼있기 때문에 띄어쓰기로 써짐"
   ]
  },
  {
   "cell_type": "code",
   "execution_count": 15,
   "metadata": {},
   "outputs": [
    {
     "name": "stdout",
     "output_type": "stream",
     "text": [
      "HelloWorld\n",
      "Hello 42\n"
     ]
    }
   ],
   "source": [
    "print(\"Hello\"+\"World\") #문자열끼리만 연산을 했기 때문에 가능\n",
    "print(\"Hello\",42)"
   ]
  },
  {
   "cell_type": "code",
   "execution_count": 16,
   "metadata": {},
   "outputs": [
    {
     "name": "stdout",
     "output_type": "stream",
     "text": [
      "hello\n",
      "world\n"
     ]
    }
   ],
   "source": [
    "print(\"hello\")\n",
    "print(\"world\")"
   ]
  },
  {
   "cell_type": "code",
   "execution_count": 20,
   "metadata": {},
   "outputs": [
    {
     "name": "stdout",
     "output_type": "stream",
     "text": [
      "hello world\n"
     ]
    }
   ],
   "source": [
    "print(\"hello\",end=\" \")\n",
    "print(\"world\")"
   ]
  },
  {
   "cell_type": "code",
   "execution_count": 22,
   "metadata": {},
   "outputs": [
    {
     "name": "stdout",
     "output_type": "stream",
     "text": [
      "저의 이름은 groot, 나이는 26, 취미는 축구이고 사는곳은 Seoul\n",
      "강낭콩\n"
     ]
    }
   ],
   "source": [
    "name = 'groot'\n",
    "age = 26\n",
    "hobby = \"축구\"\n",
    "add = 'Seoul'\n",
    "height = 173\n",
    "print(f\"저의 이름은 {name}, 나이는 {age}, 취미는 {hobby}이고 사는곳은 {add}\")\n",
    "name = \"강낭콩\"\n",
    "print(name)"
   ]
  },
  {
   "cell_type": "markdown",
   "metadata": {},
   "source": [
    "# 자료형"
   ]
  },
  {
   "cell_type": "code",
   "execution_count": 26,
   "metadata": {},
   "outputs": [],
   "source": [
    "a = int(input(\"숫자를 넣어주세요\"))\n",
    "a_modified=int (a)\n"
   ]
  },
  {
   "cell_type": "code",
   "execution_count": 41,
   "metadata": {},
   "outputs": [
    {
     "name": "stdout",
     "output_type": "stream",
     "text": [
      "|\\_/|\n",
      "|q p|   /}\n",
      "( o )\"\"\"\\\n",
      "|\"^\"'    |\n",
      "||_/=\\\\__|\n"
     ]
    }
   ],
   "source": [
    "print(\"|\\\\_/|\")\n",
    "print('|q p|   /}')\n",
    "print('( o )\"\"\"\\\\')\n",
    "print(\"|\\\"^\\\"'    |\")\n",
    "print(\"||_/=\\\\\\\\__|\")\n"
   ]
  },
  {
   "cell_type": "code",
   "execution_count": 45,
   "metadata": {},
   "outputs": [
    {
     "name": "stdout",
     "output_type": "stream",
     "text": [
      "    []\n",
      "    []\n",
      "[      ]\n",
      "[      ]\n"
     ]
    }
   ],
   "source": [
    "print(\"    []\")\n",
    "print(\"    []\")\n",
    "print(\"[      ]\")\n",
    "print(\"[      ]\")"
   ]
  },
  {
   "cell_type": "code",
   "execution_count": 47,
   "metadata": {},
   "outputs": [
    {
     "name": "stdout",
     "output_type": "stream",
     "text": [
      "1\n",
      "1.0\n"
     ]
    }
   ],
   "source": [
    "print(3//2)\n",
    "print(3.25//2)"
   ]
  },
  {
   "cell_type": "code",
   "execution_count": 49,
   "metadata": {},
   "outputs": [
    {
     "name": "stdout",
     "output_type": "stream",
     "text": [
      "2\n",
      "1.5\n"
     ]
    }
   ],
   "source": [
    "print(11%3)\n",
    "print(11.5%2)"
   ]
  },
  {
   "cell_type": "code",
   "execution_count": 50,
   "metadata": {},
   "outputs": [
    {
     "name": "stdout",
     "output_type": "stream",
     "text": [
      "8\n"
     ]
    }
   ],
   "source": [
    "print(2**3)"
   ]
  },
  {
   "cell_type": "code",
   "execution_count": 51,
   "metadata": {},
   "outputs": [
    {
     "name": "stdout",
     "output_type": "stream",
     "text": [
      "ㅎㅇㅠㅠ\n",
      "hihihihi\n"
     ]
    }
   ],
   "source": [
    "print(\"ㅎㅇ\"+\"ㅠㅠ\")\n",
    "print(\"hi\"*4)"
   ]
  },
  {
   "cell_type": "code",
   "execution_count": 54,
   "metadata": {},
   "outputs": [
    {
     "name": "stdout",
     "output_type": "stream",
     "text": [
      "3\n"
     ]
    }
   ],
   "source": [
    "print(\"banana\".count(\"a\"))"
   ]
  },
  {
   "cell_type": "code",
   "execution_count": 66,
   "metadata": {},
   "outputs": [
    {
     "data": {
      "text/plain": [
       "'appl'"
      ]
     },
     "execution_count": 66,
     "metadata": {},
     "output_type": "execute_result"
    }
   ],
   "source": [
    "\"apple\"[-5:-1]"
   ]
  },
  {
   "cell_type": "code",
   "execution_count": 69,
   "metadata": {},
   "outputs": [
    {
     "name": "stdout",
     "output_type": "stream",
     "text": [
      "['a', 'b', 'c']\n",
      "['abc', 'naver.com']\n"
     ]
    }
   ],
   "source": [
    "list = \"a b c\"\n",
    "print(list.split())\n",
    "email = \"abc@naver.com\"\n",
    "print(email.split(\"@\"))"
   ]
  },
  {
   "cell_type": "code",
   "execution_count": 88,
   "metadata": {},
   "outputs": [
    {
     "name": "stdout",
     "output_type": "stream",
     "text": [
      "ape\n",
      "elppa\n",
      "elppa\n"
     ]
    },
    {
     "data": {
      "text/plain": [
       "'\\n2024-01-02\\n'"
      ]
     },
     "execution_count": 88,
     "metadata": {},
     "output_type": "execute_result"
    }
   ],
   "source": [
    "a = \"apple\"\n",
    "print(\"apple\"[0:5:2]) #인덱스 0~5를 2간격으로 출력\n",
    "print(\"apple\"[-1:-6:-1])\n",
    "print(a[6::-1])\n",
    "# 2024-01-02\n",
    "'''\n",
    "2024-01-02\n",
    "'''"
   ]
  },
  {
   "cell_type": "code",
   "execution_count": 92,
   "metadata": {},
   "outputs": [
    {
     "name": "stdout",
     "output_type": "stream",
     "text": [
      "안녕하세요! 심상범님 (26세)\n",
      "올해는 2024년, 심상범님의 나이는 26세 입니다.\n"
     ]
    }
   ],
   "source": [
    "name = input(\"이름을 입력하세요.\")\n",
    "age = input(\"나이를 입력하세요\")\n",
    "print(f\"안녕하세요! {name}님 ({age}세)\")\n",
    "\n",
    "name = input(\"이름을 입력하세요.\")\n",
    "born_year = int(input(\"태어난 년도를 입력하세요.\"))\n",
    "current_year = int(input(\"올해 년도를 입력하세요.\"))\n",
    "age = current_year - born_year + 1\n",
    "print(f\"올해는 {current_year}년, {name}님의 나이는 {age}세 입니다.\") \n"
   ]
  },
  {
   "cell_type": "code",
   "execution_count": 101,
   "metadata": {},
   "outputs": [
    {
     "name": "stdout",
     "output_type": "stream",
     "text": [
      "2360\n",
      "3776\n",
      "1416\n",
      "181720\n"
     ]
    }
   ],
   "source": [
    "a = 472\n",
    "b = 385\n",
    "\n",
    "one = a*int(str(b)[2])\n",
    "two = a*int(str(b)[1])\n",
    "three = a*int(str(b)[0])\n",
    "c = a*b\n",
    "print(one)\n",
    "print(two)\n",
    "print(three)\n",
    "print(c)"
   ]
  },
  {
   "cell_type": "markdown",
   "metadata": {},
   "source": [
    "# 리스트"
   ]
  },
  {
   "cell_type": "code",
   "execution_count": 102,
   "metadata": {},
   "outputs": [
    {
     "name": "stdout",
     "output_type": "stream",
     "text": [
      "['반팔', '청바지']\n"
     ]
    }
   ],
   "source": [
    "shop = [\"반팔\", \"청바지\", \"이어폰\", \"키보드\"]\n",
    "print(shop[0:2])"
   ]
  },
  {
   "cell_type": "code",
   "execution_count": 105,
   "metadata": {},
   "outputs": [
    {
     "name": "stdout",
     "output_type": "stream",
     "text": [
      "[1, 2, 3, 2, 3]\n",
      "[1, 2, 3, 1, 2, 3]\n",
      "3\n"
     ]
    }
   ],
   "source": [
    "a = [1,2,3]\n",
    "b = [2,3]\n",
    "print(a+b)\n",
    "print(a*2)\n",
    "print(len(a))"
   ]
  },
  {
   "cell_type": "code",
   "execution_count": 106,
   "metadata": {},
   "outputs": [],
   "source": [
    "shop[0] = \"긴팔\" # 인덱스 바꾸기"
   ]
  },
  {
   "cell_type": "code",
   "execution_count": 111,
   "metadata": {},
   "outputs": [
    {
     "name": "stdout",
     "output_type": "stream",
     "text": [
      "[4, 8, 3, 2, 1]\n"
     ]
    }
   ],
   "source": [
    "a = [1, 2, 3,8 ,4]\n",
    "a.reverse()\n",
    "print(a)"
   ]
  },
  {
   "cell_type": "code",
   "execution_count": 115,
   "metadata": {},
   "outputs": [
    {
     "name": "stdout",
     "output_type": "stream",
     "text": [
      "[1, 2, 3, 4]\n",
      "[4, 1, 2, 3]\n"
     ]
    }
   ],
   "source": [
    "num = [4,1,2,3]\n",
    "print(sorted(num))\n",
    "print(num)"
   ]
  },
  {
   "cell_type": "code",
   "execution_count": 117,
   "metadata": {},
   "outputs": [
    {
     "name": "stdout",
     "output_type": "stream",
     "text": [
      "['긴팔', '청바지', '이어폰', '키보드', '치마', '치마']\n",
      "['긴팔', '청바지', '이어폰', '키보드', '치마']\n"
     ]
    }
   ],
   "source": [
    "shop.append(\"치마\")\n",
    "print(shop)\n",
    "shop.remove(\"치마\")\n",
    "print(shop)"
   ]
  },
  {
   "cell_type": "code",
   "execution_count": 119,
   "metadata": {},
   "outputs": [
    {
     "name": "stdout",
     "output_type": "stream",
     "text": [
      "['긴팔', 'b', 'b', '청바지', '이어폰', '키보드', '치마']\n"
     ]
    }
   ],
   "source": [
    "shop.insert(1, \"b\")\n",
    "print(shop)"
   ]
  },
  {
   "cell_type": "code",
   "execution_count": 120,
   "metadata": {},
   "outputs": [
    {
     "name": "stdout",
     "output_type": "stream",
     "text": [
      "1\n"
     ]
    }
   ],
   "source": [
    "shop = [1, 2, 3, 4, 5, 6]\n",
    "print(shop.index(2))"
   ]
  },
  {
   "cell_type": "code",
   "execution_count": 128,
   "metadata": {},
   "outputs": [
    {
     "name": "stdout",
     "output_type": "stream",
     "text": [
      "yellow\n",
      "['blue', 'green', 'indigo', 'orange', 'purple', 'red', 'yellow']\n",
      "['red', 'orange', 'yellow', 'green', 'blue', 'indigo', 'purple', 'black']\n",
      "['red', 'orange', 'purple', 'black']\n"
     ]
    }
   ],
   "source": [
    "rainbow = ['red', 'orange', 'yellow', 'green', 'blue', 'indigo', 'purple']\n",
    "print(rainbow[2])\n",
    "print(sorted(rainbow))\n",
    "rainbow.append('black')\n",
    "print(rainbow)\n",
    "del rainbow[2:6]\n",
    "print(rainbow)"
   ]
  },
  {
   "cell_type": "code",
   "execution_count": 133,
   "metadata": {},
   "outputs": [
    {
     "name": "stdout",
     "output_type": "stream",
     "text": [
      "a>b\n"
     ]
    }
   ],
   "source": [
    "a = 3\n",
    "b = 2\n",
    "if a>b:\n",
    "  print(\"a>b\")\n",
    "if a<b:\n",
    "  print(\"a<b\")"
   ]
  },
  {
   "cell_type": "code",
   "execution_count": 4,
   "metadata": {},
   "outputs": [
    {
     "name": "stdout",
     "output_type": "stream",
     "text": [
      "홀수\n"
     ]
    }
   ],
   "source": [
    "num =  int(input())\n",
    "\n",
    "if num%2 == 0:\n",
    "  print(\"짝수\")\n",
    "if num%2 == 1:\n",
    "  print(\"홀수\")"
   ]
  },
  {
   "cell_type": "code",
   "execution_count": 14,
   "metadata": {},
   "outputs": [
    {
     "name": "stdout",
     "output_type": "stream",
     "text": [
      "D\n"
     ]
    }
   ],
   "source": [
    "a = int(input())\n",
    "\n",
    "if a>=90:\n",
    "  print(\"A\")\n",
    "elif a>=80:\n",
    "  print(\"B\")\n",
    "elif a>=70:\n",
    "  print(\"C\")\n",
    "elif a>=60:\n",
    "  print(\"D\")\n",
    "else:\n",
    "  print(\"E\")"
   ]
  },
  {
   "cell_type": "code",
   "execution_count": 21,
   "metadata": {},
   "outputs": [
    {
     "name": "stdout",
     "output_type": "stream",
     "text": [
      "18세의 현금요금은 1000원입니다\n"
     ]
    }
   ],
   "source": [
    "age = int(input(\"나이를 숫자로 입력해 주세요\"))\n",
    "bus = input(\"결제 방법을 선택해 주세요('카드' 또는 '현금'만 입력)\")\n",
    "\n",
    "if age<8:\n",
    "  print(f\"{age}세의 요금은 무료입니다\")\n",
    "elif age<14:\n",
    "  print(f\"{age}세의 요금은 450원입니다.\")\n",
    "elif age<20:\n",
    "  if bus == \"카드\":\n",
    "    print(f\"{age}세의 {bus}요금은 720원입니다\")\n",
    "  else:\n",
    "    print(f\"{age}세의 {bus}요금은 1000원입니다\")\n",
    "elif age<75:\n",
    "  if bus == \"카드\":\n",
    "    print(f\"{age}세의 {bus}요금은 1200원입니다\")\n",
    "  else:\n",
    "    print(f\"{age}세의 {bus}요금은 1300원입니다\")\n",
    "else:\n",
    "  print(f\"{age}세의 요금은 무료입니다\")"
   ]
  },
  {
   "cell_type": "code",
   "execution_count": 1,
   "metadata": {},
   "outputs": [
    {
     "name": "stdout",
     "output_type": "stream",
     "text": [
      "['a', 'b', 'c']\n"
     ]
    }
   ],
   "source": [
    "print(list(\"abc\"))"
   ]
  },
  {
   "cell_type": "code",
   "execution_count": 10,
   "metadata": {},
   "outputs": [
    {
     "name": "stdout",
     "output_type": "stream",
     "text": [
      "['a', 'b', 'c']\n"
     ]
    }
   ],
   "source": [
    "mylist = list(\"abc\")\n",
    "print(mylist)"
   ]
  },
  {
   "cell_type": "code",
   "execution_count": 13,
   "metadata": {},
   "outputs": [
    {
     "name": "stdout",
     "output_type": "stream",
     "text": [
      "cba\n"
     ]
    }
   ],
   "source": [
    "mylist = list(\"abc\")\n",
    "mylist.reverse()\n",
    "print(*mylist,sep=\"\")"
   ]
  },
  {
   "cell_type": "markdown",
   "metadata": {},
   "source": [
    "# 반복문"
   ]
  },
  {
   "cell_type": "code",
   "execution_count": 9,
   "metadata": {},
   "outputs": [
    {
     "name": "stdout",
     "output_type": "stream",
     "text": [
      "bac\n"
     ]
    }
   ],
   "source": [
    "tuple_ = (1,2,3)\n",
    "list_ = {\"a\",\"b\",\"c\"}\n",
    "str = \"\"\n",
    "for t in list_:\n",
    "  str = t + str\n",
    "print(str)"
   ]
  },
  {
   "cell_type": "code",
   "execution_count": 11,
   "metadata": {},
   "outputs": [
    {
     "name": "stdout",
     "output_type": "stream",
     "text": [
      "0\n",
      "1\n",
      "2\n",
      "3\n",
      "4\n",
      "5\n",
      "6\n",
      "7\n",
      "8\n",
      "9\n"
     ]
    }
   ],
   "source": [
    "for i in range(10):\n",
    "  print(i)"
   ]
  },
  {
   "cell_type": "code",
   "execution_count": 17,
   "metadata": {},
   "outputs": [
    {
     "name": "stdout",
     "output_type": "stream",
     "text": [
      "apei e\n"
     ]
    }
   ],
   "source": [
    "mystr = \"apple is red\"\n",
    "mystr = mystr[::2]\n",
    "\n",
    "\n",
    "print(mystr)\n"
   ]
  },
  {
   "cell_type": "code",
   "execution_count": 18,
   "metadata": {},
   "outputs": [
    {
     "name": "stdout",
     "output_type": "stream",
     "text": [
      "3\n",
      "5\n",
      "7\n",
      "9\n"
     ]
    }
   ],
   "source": [
    "for i in range(3,10,2):\n",
    "  print(i)"
   ]
  },
  {
   "cell_type": "code",
   "execution_count": 24,
   "metadata": {},
   "outputs": [
    {
     "name": "stdout",
     "output_type": "stream",
     "text": [
      "10\n",
      "9\n",
      "8\n",
      "7\n",
      "6\n",
      "5\n",
      "4\n",
      "3\n",
      "2\n",
      "1\n",
      "0\n"
     ]
    }
   ],
   "source": [
    "for i in range(10,-1,-1):\n",
    "  print(i)"
   ]
  },
  {
   "cell_type": "code",
   "execution_count": 41,
   "metadata": {},
   "outputs": [
    {
     "name": "stdout",
     "output_type": "stream",
     "text": [
      "9\n",
      "9\n"
     ]
    }
   ],
   "source": [
    "num = int(input(\"어디까지 계산할까요?\"))\n",
    "\n",
    "sum = 0\n",
    "sum1 = 0\n",
    "for i in range(1,num+1):\n",
    "  if i%2 == 1:\n",
    "    sum = sum + i\n",
    "print(sum)\n",
    "\n",
    "for i in range(1,num+1,2):\n",
    "  sum1 = sum1 + i\n",
    "print(sum1)"
   ]
  },
  {
   "cell_type": "code",
   "execution_count": 43,
   "metadata": {},
   "outputs": [
    {
     "name": "stdout",
     "output_type": "stream",
     "text": [
      "9\n"
     ]
    }
   ],
   "source": [
    "# 홀수 빨리 찾는 법\n",
    "n = 5\n",
    "mylist = list(range(1,n+1))\n",
    "oddsum = 0\n",
    "for i in mylist:\n",
    "  if(i&1):\n",
    "    oddsum += i\n",
    "    \n",
    "print(oddsum)"
   ]
  },
  {
   "cell_type": "code",
   "execution_count": 39,
   "metadata": {},
   "outputs": [
    {
     "name": "stdout",
     "output_type": "stream",
     "text": [
      "몇 초? 5\n",
      "5 4 3 2 1 발사!!\n"
     ]
    }
   ],
   "source": [
    "num = int(input(print(\"몇 초?\", end = \" \")))\n",
    "print(num)\n",
    "\n",
    "for i in range(num,0,-1):\n",
    "  print(i, end =\" \")\n",
    "print(\"발사!!\")"
   ]
  },
  {
   "cell_type": "code",
   "execution_count": 44,
   "metadata": {},
   "outputs": [
    {
     "name": "stdout",
     "output_type": "stream",
     "text": [
      "3 2 1 발사!\n"
     ]
    }
   ],
   "source": [
    "num = int(input(\"몇 초?\"))\n",
    "\n",
    "for i in range(num,0,-1):\n",
    "  print(i, end = \" \")\n",
    "print(\"발사!\")"
   ]
  },
  {
   "cell_type": "code",
   "execution_count": 47,
   "metadata": {},
   "outputs": [
    {
     "name": "stdout",
     "output_type": "stream",
     "text": [
      "5 * 1 = 5\n",
      "5 * 2 = 10\n",
      "5 * 3 = 15\n",
      "5 * 4 = 20\n",
      "5 * 5 = 25\n",
      "5 * 6 = 30\n",
      "5 * 7 = 35\n",
      "5 * 8 = 40\n",
      "5 * 9 = 45\n"
     ]
    }
   ],
   "source": [
    "num = int(input(\"몇 단을 출력할까요?\"))\n",
    "\n",
    "for i in range(1,10):\n",
    "  print(f\"{num} * {i} = {num*i}\")"
   ]
  },
  {
   "cell_type": "code",
   "execution_count": 48,
   "metadata": {},
   "outputs": [
    {
     "name": "stdout",
     "output_type": "stream",
     "text": [
      "안녕\n",
      "안녕\n",
      "안녕\n",
      "안녕\n",
      "안녕\n",
      "안녕\n",
      "안녕\n",
      "안녕\n",
      "안녕\n",
      "안녕\n"
     ]
    }
   ],
   "source": [
    "# 팁) 객체 필요없이 10번만 반복할래\n",
    "for _ in range(10):\n",
    "  print(\"안녕\")"
   ]
  },
  {
   "cell_type": "code",
   "execution_count": 52,
   "metadata": {},
   "outputs": [
    {
     "name": "stdout",
     "output_type": "stream",
     "text": [
      "1 * 1 = 1\n",
      "1 * 2 = 2\n",
      "1 * 3 = 3\n",
      "1 * 4 = 4\n",
      "1 * 5 = 5\n",
      "1 * 6 = 6\n",
      "1 * 7 = 7\n",
      "1 * 8 = 8\n",
      "1 * 9 = 9\n",
      "\n",
      "2 * 1 = 2\n",
      "2 * 2 = 4\n",
      "2 * 3 = 6\n",
      "2 * 4 = 8\n",
      "2 * 5 = 10\n",
      "2 * 6 = 12\n",
      "2 * 7 = 14\n",
      "2 * 8 = 16\n",
      "2 * 9 = 18\n",
      "\n",
      "3 * 1 = 3\n",
      "3 * 2 = 6\n",
      "3 * 3 = 9\n",
      "3 * 4 = 12\n",
      "3 * 5 = 15\n",
      "3 * 6 = 18\n",
      "3 * 7 = 21\n",
      "3 * 8 = 24\n",
      "3 * 9 = 27\n",
      "\n",
      "4 * 1 = 4\n",
      "4 * 2 = 8\n",
      "4 * 3 = 12\n",
      "4 * 4 = 16\n",
      "4 * 5 = 20\n",
      "4 * 6 = 24\n",
      "4 * 7 = 28\n",
      "4 * 8 = 32\n",
      "4 * 9 = 36\n",
      "\n",
      "5 * 1 = 5\n",
      "5 * 2 = 10\n",
      "5 * 3 = 15\n",
      "5 * 4 = 20\n",
      "5 * 5 = 25\n",
      "5 * 6 = 30\n",
      "5 * 7 = 35\n",
      "5 * 8 = 40\n",
      "5 * 9 = 45\n",
      "\n",
      "6 * 1 = 6\n",
      "6 * 2 = 12\n",
      "6 * 3 = 18\n",
      "6 * 4 = 24\n",
      "6 * 5 = 30\n",
      "6 * 6 = 36\n",
      "6 * 7 = 42\n",
      "6 * 8 = 48\n",
      "6 * 9 = 54\n",
      "\n",
      "7 * 1 = 7\n",
      "7 * 2 = 14\n",
      "7 * 3 = 21\n",
      "7 * 4 = 28\n",
      "7 * 5 = 35\n",
      "7 * 6 = 42\n",
      "7 * 7 = 49\n",
      "7 * 8 = 56\n",
      "7 * 9 = 63\n",
      "\n",
      "8 * 1 = 8\n",
      "8 * 2 = 16\n",
      "8 * 3 = 24\n",
      "8 * 4 = 32\n",
      "8 * 5 = 40\n",
      "8 * 6 = 48\n",
      "8 * 7 = 56\n",
      "8 * 8 = 64\n",
      "8 * 9 = 72\n",
      "\n",
      "9 * 1 = 9\n",
      "9 * 2 = 18\n",
      "9 * 3 = 27\n",
      "9 * 4 = 36\n",
      "9 * 5 = 45\n",
      "9 * 6 = 54\n",
      "9 * 7 = 63\n",
      "9 * 8 = 72\n",
      "9 * 9 = 81\n",
      "\n"
     ]
    }
   ],
   "source": [
    "#2중 for문 구구단\n",
    "for y in range(1,10):\n",
    "  for x in range(1,10):\n",
    "    print(f\"{y} * {x} = {y*x}\")\n",
    "  print()"
   ]
  },
  {
   "cell_type": "code",
   "execution_count": 54,
   "metadata": {},
   "outputs": [
    {
     "name": "stdout",
     "output_type": "stream",
     "text": [
      "피자!!\n",
      "치킨!!\n",
      "done\n"
     ]
    }
   ],
   "source": [
    "while True:\n",
    "  lunch = input(\"뭐 먹을까\")\n",
    "  if lunch == \"그만\":\n",
    "    break\n",
    "  print(lunch+\"!!\")\n",
    "print(\"done\")"
   ]
  },
  {
   "cell_type": "code",
   "execution_count": 72,
   "metadata": {},
   "outputs": [
    {
     "name": "stdout",
     "output_type": "stream",
     "text": [
      "*\n",
      "**\n",
      "***\n",
      "****\n",
      "*****\n"
     ]
    }
   ],
   "source": [
    "line = int(input(\"몇 줄?\"))\n",
    "i=1\n",
    "while (i <= line):\n",
    "  print(\"*\"*i)\n",
    "  i = i+1"
   ]
  },
  {
   "cell_type": "code",
   "execution_count": 73,
   "metadata": {},
   "outputs": [
    {
     "name": "stdout",
     "output_type": "stream",
     "text": [
      "     *\n",
      "    **\n",
      "   ***\n",
      "  ****\n",
      " *****\n"
     ]
    }
   ],
   "source": [
    "line = int(input(\"몇 줄?\"))\n",
    "i=1\n",
    "\n",
    "while (i<=line):\n",
    "  a=line-i\n",
    "  print(\" \"*a,\"*\"*i)\n",
    "  i = i+1"
   ]
  },
  {
   "cell_type": "code",
   "execution_count": 74,
   "metadata": {},
   "outputs": [
    {
     "name": "stdout",
     "output_type": "stream",
     "text": [
      "     *\n",
      "    ***\n",
      "   *****\n",
      "  *******\n",
      " *********\n"
     ]
    }
   ],
   "source": [
    "line = int(input(\"몇 줄?\"))\n",
    "i=1\n",
    "\n",
    "while (i<=line):\n",
    "  a=line-i\n",
    "  b=2*i-1\n",
    "  print(\" \"*a,\"*\"*b)\n",
    "  i = i+1"
   ]
  },
  {
   "cell_type": "code",
   "execution_count": 1,
   "metadata": {},
   "outputs": [
    {
     "name": "stdout",
     "output_type": "stream",
     "text": [
      "가장 큰 값: 50\n",
      "가장 작은 값: 10\n",
      "30.0\n"
     ]
    }
   ],
   "source": [
    "\n",
    "a = input()\n",
    "b = list(a.split())\n",
    "c=[]\n",
    "i = 0\n",
    "while (i <= len(b)-1):\n",
    "  c.append(int(b[i]))\n",
    "  i = i+1\n",
    "max_ = max(c)\n",
    "min_ = min(c)\n",
    "print(\"가장 큰 값:\",max_)\n",
    "print(\"가장 작은 값:\", min_)\n",
    "c.remove(max_)\n",
    "c.remove(min_)\n",
    "sum=0\n",
    "for i in c:\n",
    "  a=int(i)\n",
    "  sum=sum+a\n",
    "mean = sum/len(c)\n",
    "print(mean)\n",
    "\n",
    "\n",
    "\n",
    "\n",
    "\n"
   ]
  },
  {
   "cell_type": "code",
   "execution_count": 1,
   "metadata": {},
   "outputs": [
    {
     "name": "stdout",
     "output_type": "stream",
     "text": [
      "가장 큰 값: 30\n",
      "가장 작은 값: 10\n",
      "20.0\n"
     ]
    }
   ],
   "source": [
    "a = input()\n",
    "b = list(a.split())\n",
    "c=[]\n",
    "i = 0\n",
    "while (i <= len(b)-1):\n",
    "  c.append(int(b[i]))\n",
    "  i = i+1\n",
    "max_ = max(c)\n",
    "min_ = min(c)\n",
    "print(\"가장 큰 값:\",max_)\n",
    "print(\"가장 작은 값:\", min_)\n",
    "c.remove(max_)\n",
    "c.remove(min_)\n",
    "_len = len(c)-1\n",
    "sum=0\n",
    "\n",
    "i=0\n",
    "while (i <= _len):\n",
    "  h=c[i]\n",
    "  sum=sum+h\n",
    "  i=i+1\n",
    "mean = sum/len(c)\n",
    "print(mean)"
   ]
  },
  {
   "cell_type": "code",
   "execution_count": 13,
   "metadata": {},
   "outputs": [
    {
     "name": "stdout",
     "output_type": "stream",
     "text": [
      "50.0\n",
      "10.0\n"
     ]
    }
   ],
   "source": [
    "num = input(\"숫자 여러 개 입력: \")\n",
    "num_list = list(map(float, num.split()))\n",
    "max_ = max(num_list)\n",
    "min_ = min(num_list)\n",
    "print(max_)\n",
    "print(min_)"
   ]
  },
  {
   "cell_type": "markdown",
   "metadata": {},
   "source": [
    "# 튜플"
   ]
  },
  {
   "cell_type": "code",
   "execution_count": 9,
   "metadata": {},
   "outputs": [
    {
     "name": "stdout",
     "output_type": "stream",
     "text": [
      "{1, 2, 3, 4, 5}\n",
      "{'e', 'l', 'p', 'a'}\n",
      "True\n",
      "False\n",
      "{1, 2, 3, 4, 5, 6}\n",
      "{2, 3, 4, 5, 6}\n",
      "2\n",
      "{3, 4, 5, 6}\n",
      "set()\n"
     ]
    }
   ],
   "source": [
    "# set\n",
    "number1 = {1,2,3,4,5}\n",
    "number2 = set([1,2,3,4,5,5])\n",
    "apple = set('apple')\n",
    "\n",
    "print(number2)\n",
    "print(apple)\n",
    "\n",
    "print(1 in number1)\n",
    "print('c' in apple)\n",
    "\n",
    "number1.add(6)\n",
    "print(number1)\n",
    "\n",
    "number1.remove(1)\n",
    "print(number1)\n",
    "\n",
    "print(number1.pop())\n",
    "print(number1)\n",
    "\n",
    "number1.clear()\n",
    "print(number1)"
   ]
  },
  {
   "cell_type": "code",
   "execution_count": 11,
   "metadata": {},
   "outputs": [
    {
     "name": "stdout",
     "output_type": "stream",
     "text": [
      "dict_values(['사과', '바나나', '복숭아'])\n",
      "['apple', 'banana', 'peach']\n"
     ]
    }
   ],
   "source": [
    "dict = {'apple': '사과', \"banana\": \"바나나\", \"peach\": \"복숭아\"}\n",
    "print(dict.values())\n",
    "print(list(dict.keys()))"
   ]
  },
  {
   "cell_type": "code",
   "execution_count": 15,
   "metadata": {},
   "outputs": [
    {
     "name": "stdout",
     "output_type": "stream",
     "text": [
      "{}\n"
     ]
    }
   ],
   "source": [
    "for s in dict.keys():\n",
    "  print(s,dict[s])\n",
    "\"apple in dict\"\n",
    "dict.clear()\n",
    "print(dict)"
   ]
  },
  {
   "cell_type": "code",
   "execution_count": 10,
   "metadata": {},
   "outputs": [
    {
     "name": "stdout",
     "output_type": "stream",
     "text": [
      "[1, 2, 3, 4, 5, 6, 7, 8]\n",
      "[1, 3, 5, 7]\n",
      "[2, 4, 6, 8]\n"
     ]
    }
   ],
   "source": [
    "num = int(input())\n",
    "list_ = []\n",
    "for i in range(1,num+1):\n",
    "  list_.append(i)\n",
    "print(list_)\n",
    "\n",
    "list_1 = list_[0::2]\n",
    "list_2 = list_[1::2]\n",
    "print(list_1)\n",
    "print(list_2)"
   ]
  },
  {
   "cell_type": "code",
   "execution_count": 7,
   "metadata": {},
   "outputs": [
    {
     "name": "stdout",
     "output_type": "stream",
     "text": [
      "포카리는 지금 없네요\n"
     ]
    }
   ],
   "source": [
    "vending_machine = ['게토레이', '레쓰비', '생수', '이프로']\n",
    "\n",
    "berverage = input(\"마시고 싶은 음료?\")\n",
    "\n",
    "if berverage in vending_machine:\n",
    "  print(f\"{berverage} 드릴게요\")\n",
    "else:\n",
    "  print(f\"{berverage}는 지금 없네요\")"
   ]
  },
  {
   "cell_type": "code",
   "execution_count": 5,
   "metadata": {},
   "outputs": [
    {
     "name": "stdout",
     "output_type": "stream",
     "text": [
      "남은 음료수:['게토레이', '게토레이', '레쓰비', '레쓰비', '생수', '생수', '생수', '이프로']\n",
      "콜라는 지금 없네요\n",
      "남은 음료수['게토레이', '게토레이', '레쓰비', '레쓰비', '생수', '생수', '생수', '이프로']\n"
     ]
    }
   ],
   "source": [
    "vending_machine = ['게토레이', '게토레이', '레쓰비', '레쓰비', '생수', '생수', '생수', '이프로']\n",
    "\n",
    "ask = input(\"주인 or 소비자\")\n",
    "print(f\"남은 음료수:{vending_machine}\")\n",
    "if ask == \"소비자\":\n",
    "  berverage = input(\"마시고 싶은 음료\")\n",
    "  if berverage in vending_machine:\n",
    "    vending_machine.remove(berverage)\n",
    "    print(f\"{berverage}드릴게요\")\n",
    "  else:\n",
    "    print(\"없음\")\n",
    "elif ask == \"주인\":\n",
    "  y_n = input(\"추가 or 삭제\")\n",
    "  if y_n == \"추가\":\n",
    "    add_b = input(\"추가할 음료수\")\n",
    "    vending_machine.append(add_b)\n",
    "  elif y_n == \"삭제\":\n",
    "    sub_b = input(\"삭제할 음료\")\n",
    "    if sub_b in vending_machine:\n",
    "      vending_machine.remove(sub_b)\n",
    "    else:\n",
    "      print(f\"{sub_b}는 지금 없네요\")  \n",
    "  else:\n",
    "    print(\"잘못된 접근입니다\")\n",
    "else:\n",
    "  print(\"잘못된 접근입니다.\")\n",
    "print(f\"남은 음료수{vending_machine}\")    "
   ]
  },
  {
   "cell_type": "code",
   "execution_count": null,
   "metadata": {},
   "outputs": [],
   "source": [
    "n = int(input())\n",
    "\n",
    "if n%3==0:\n",
    "  "
   ]
  }
 ],
 "metadata": {
  "kernelspec": {
   "display_name": "base",
   "language": "python",
   "name": "python3"
  },
  "language_info": {
   "codemirror_mode": {
    "name": "ipython",
    "version": 3
   },
   "file_extension": ".py",
   "mimetype": "text/x-python",
   "name": "python",
   "nbconvert_exporter": "python",
   "pygments_lexer": "ipython3",
   "version": "3.11.5"
  }
 },
 "nbformat": 4,
 "nbformat_minor": 2
}
