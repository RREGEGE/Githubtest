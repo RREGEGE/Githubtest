{
 "cells": [
  {
   "cell_type": "code",
   "execution_count": null,
   "metadata": {},
   "outputs": [],
   "source": []
  },
  {
   "cell_type": "code",
   "execution_count": 3,
   "metadata": {},
   "outputs": [
    {
     "name": "stdout",
     "output_type": "stream",
     "text": [
      "5\n"
     ]
    }
   ],
   "source": [
    "\n",
    "num = input()\n",
    "num_1 = list(map(int,num.split()))\n",
    "i=1\n",
    "j=1\n",
    "five = set()\n",
    "eleven = set()\n",
    "while i <= num_1[0]:\n",
    "  five_ask = input()\n",
    "  five.add(five_ask)\n",
    "  i = i + 1\n",
    "while j <= num_1[1]:\n",
    "  eleven_ask = input()\n",
    "  eleven.add(eleven_ask)\n",
    "  j = j + 1\n",
    "find = 0\n",
    "for i in five:\n",
    "  for k in eleven:\n",
    "    if i == k:\n",
    "      find = find + 1\n",
    "print(find)"
   ]
  },
  {
   "cell_type": "code",
   "execution_count": 10,
   "metadata": {},
   "outputs": [
    {
     "name": "stdout",
     "output_type": "stream",
     "text": [
      "5 11\n",
      "4\n"
     ]
    }
   ],
   "source": [
    "n, m = list(map(int,input().split()))\n",
    "print(n,m)\n",
    "five = []\n",
    "eleven = []\n",
    "for _ in range(n) :\n",
    "  five_ask = input()\n",
    "  five.append(five_ask)\n",
    "for _ in range(m):\n",
    "  eleven_ask = input()\n",
    "  eleven.append(eleven_ask)\n",
    "find = 0\n",
    "for i in five:\n",
    "  for k in eleven:\n",
    "    if i == k:\n",
    "      find = find + 1\n",
    "print(find)"
   ]
  },
  {
   "cell_type": "code",
   "execution_count": 23,
   "metadata": {},
   "outputs": [
    {
     "ename": "ValueError",
     "evalue": "not enough values to unpack (expected 2, got 0)",
     "output_type": "error",
     "traceback": [
      "\u001b[1;31m---------------------------------------------------------------------------\u001b[0m",
      "\u001b[1;31mValueError\u001b[0m                                Traceback (most recent call last)",
      "Cell \u001b[1;32mIn[23], line 2\u001b[0m\n\u001b[0;32m      1\u001b[0m \u001b[38;5;66;03m# 백준 정답\u001b[39;00m\n\u001b[1;32m----> 2\u001b[0m n, m \u001b[38;5;241m=\u001b[39m \u001b[38;5;28mlist\u001b[39m(\u001b[38;5;28mmap\u001b[39m(\u001b[38;5;28mint\u001b[39m,\u001b[38;5;28minput\u001b[39m()\u001b[38;5;241m.\u001b[39msplit()))\n\u001b[0;32m      3\u001b[0m S \u001b[38;5;241m=\u001b[39m \u001b[38;5;28mset\u001b[39m()\n\u001b[0;32m      4\u001b[0m \u001b[38;5;28;01mfor\u001b[39;00m i \u001b[38;5;129;01min\u001b[39;00m \u001b[38;5;28mrange\u001b[39m(n):\n",
      "\u001b[1;31mValueError\u001b[0m: not enough values to unpack (expected 2, got 0)"
     ]
    }
   ],
   "source": [
    "# 백준 정답\n",
    "n, m = map(int,input().split())\n",
    "S = set()\n",
    "for i in range(n):\n",
    "  S.add(input())\n",
    "  \n",
    "ans = 0\n",
    "for _ in range(m):\n",
    "  t = input()\n",
    "  if t in S:\n",
    "    ans += 1\n",
    "print(ans)"
   ]
  },
  {
   "cell_type": "code",
   "execution_count": 20,
   "metadata": {},
   "outputs": [
    {
     "name": "stdout",
     "output_type": "stream",
     "text": [
      "[1, 3, 2]\n"
     ]
    }
   ],
   "source": [
    "import random\n",
    "a = [1,2,3]\n",
    "random.shuffle(a)\n",
    "print(a)"
   ]
  },
  {
   "cell_type": "code",
   "execution_count": 41,
   "metadata": {},
   "outputs": [
    {
     "name": "stdout",
     "output_type": "stream",
     "text": [
      "['8', 'q', '#', 'F', 'j', '(', 't', '7', '9', 'I', 'y', 'A', 'd', 'n']\n",
      "8q#Fj(t79IyAdn\n"
     ]
    }
   ],
   "source": [
    "import random\n",
    "\n",
    "lower_alphabets = ['a', 'b', 'c', 'd', 'e', 'f', 'g', 'h', 'i', 'j', 'k', 'l', 'm', 'n', 'o', 'p', 'q', 'r', 's', 't', 'u', 'v', 'w', 'x', 'y', 'z']\n",
    "upper_alphabets = []\n",
    "for i in lower_alphabets:                # upper_alphabets = [char.upper() for char in lower_alphabets]\n",
    "  upper_alphabets.append(i.upper())\n",
    "alphabets = lower_alphabets + upper_alphabets\n",
    "symbols = ['!', '#', '$', '%', '&', '(', ')', '*', '+']\n",
    "\n",
    "num_of_alphabets = 9\n",
    "num_of_numbers = 3\n",
    "num_of_symbols = 2\n",
    "\n",
    "random.shuffle(alphabets)\n",
    "random.shuffle(symbols)\n",
    "num = []\n",
    "for _ in range(num_of_numbers):\n",
    "  num.append(str(random.randint(0,9)))\n",
    "a = alphabets[:num_of_alphabets]\n",
    "s = symbols[:num_of_symbols]\n",
    "password = a + num + s\n",
    "random.shuffle(password)\n",
    "print(password)\n",
    "print(''.join(password))\n"
   ]
  },
  {
   "cell_type": "code",
   "execution_count": null,
   "metadata": {},
   "outputs": [],
   "source": []
  }
 ],
 "metadata": {
  "kernelspec": {
   "display_name": "base",
   "language": "python",
   "name": "python3"
  },
  "language_info": {
   "codemirror_mode": {
    "name": "ipython",
    "version": 3
   },
   "file_extension": ".py",
   "mimetype": "text/x-python",
   "name": "python",
   "nbconvert_exporter": "python",
   "pygments_lexer": "ipython3",
   "version": "3.11.5"
  }
 },
 "nbformat": 4,
 "nbformat_minor": 2
}
